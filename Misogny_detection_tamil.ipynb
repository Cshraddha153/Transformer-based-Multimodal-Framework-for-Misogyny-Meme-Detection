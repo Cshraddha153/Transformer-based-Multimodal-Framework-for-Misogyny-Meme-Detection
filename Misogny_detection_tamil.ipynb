{
 "cells": [
  {
   "cell_type": "code",
   "execution_count": 2,
   "metadata": {},
   "outputs": [],
   "source": [
    "import torch\n",
    "import torch.nn as nn\n",
    "import torch.optim as optim\n",
    "import numpy as np\n",
    "import pandas as pd\n",
    "from sklearn import preprocessing \n",
    "import os \n",
    "import matplotlib.pyplot as plt\n",
    "%matplotlib inline\n",
    "import IPython.display as ipd \n",
    "import tensorflow \n",
    "from tensorflow.keras.utils import to_categorical\n",
    "from sklearn.preprocessing import LabelEncoder \n",
    "from sklearn.model_selection import train_test_split\n",
    "import tensorflow as tf\n",
    "from tqdm import tqdm\n",
    "import torch.optim as optim \n",
    "from sklearn.metrics import accuracy_score, precision_score, recall_score, f1_score, confusion_matrix\n",
    "import seaborn as sns\n",
    "from torch.utils.data import DataLoader, TensorDataset\n",
    "import re\n",
    "import string\n",
    "import nltk\n",
    "from nltk.corpus import stopwords\n",
    "from nltk.tokenize import word_tokenize\n",
    "import tamil\n",
    "from tamil.utf8 import get_words\n",
    "import unicodedata\n",
    "# Tools for Tamil Text\n",
    "from indicnlp.tokenize import indic_tokenize\n",
    "from indicnlp.normalize.indic_normalize import IndicNormalizerFactory\n",
    "from transformers import BertTokenizer, BertModel"
   ]
  },
  {
   "cell_type": "code",
   "execution_count": 24,
   "metadata": {},
   "outputs": [],
   "source": [
    "tamil_stopwords = set([\n",
    "    \"அங்கு\", \"அங்கே\", \"அடுத்த\", \"அதற்கு\", \"அதனால்\", \"அதன்\", \"அதிக\", \"அதில்\", \"அது\", \n",
    "    \"அதே\", \"அதை\", \"அந்த\", \"அந்தக்\", \"அந்தப்\", \"அல்லது\", \"அவரது\", \"அவர்\", \"அவர்கள்\", \n",
    "    \"அவள்\", \"அவன்\", \"அவை\", \"அன்று\", \"ஆகிய\", \"ஆகியோர்\", \"ஆகும்\", \"ஆனால்\", \"இங்கு\", \n",
    "    \"இங்கே\", \"இடத்தில்\", \"இடம்\", \"இதற்கு\", \"இதனால்\", \"இதனை\", \"இதன்\", \"இதில்\", \"இது\", \n",
    "    \"இதை\", \"இந்த\", \"இந்தக்\", \"இந்தத்\", \"இந்தப்\", \"இப்போது\", \"இரு\", \"இருக்கும்\", \"இருந்த\", \n",
    "    \"இருந்தது\", \"இருந்து\", \"இல்லை\", \"இவர்\", \"இவை\", \"இன்னும்\", \"உள்ள\", \"உள்ளது\", \"உள்ளன\", \n",
    "    \"உன்\", \"எந்த\", \"எல்லாம்\", \"என\", \"எனக்\", \"எனக்கு\", \"எனப்படும்\", \"எனவும்\", \"எனவே\", \n",
    "    \"எனினும்\", \"எனும்\", \"என்\", \"என்பது\", \"என்பதை\", \"என்ற\", \"என்று\", \"என்றும்\", \"என்ன\", \n",
    "    \"என்னும்\", \"ஏன்\", \"ஒரு\", \"ஒரே\", \"ஓர்\", \"கொண்ட\", \"கொண்டு\", \"கொள்ள\", \"சற்று\", \"சில\", \n",
    "    \"சிறு\", \"சேர்ந்த\", \"தவிர\", \"தனது\", \"தன்\", \"தான்\", \"நாம்\", \"நான்\", \"நீ\", \"பல\", \n",
    "    \"பலரும்\", \"பல்வேறு\", \"பற்றி\", \"பற்றிய\", \"பிற\", \"பிறகு\", \"பின்\", \"பின்னர்\", \"பெரும்\", \n",
    "    \"பேர்\", \"போது\", \"போல\", \"போல்\", \"போன்ற\", \"மட்டுமே\", \"மட்டும்\", \"மற்ற\", \"மற்றும்\", \n",
    "    \"மிக\", \"மிகவும்\", \"மீது\", \"முதல்\", \"முறை\", \"மேலும்\", \"மேல்\", \"யார்\", \"வந்த\", \n",
    "    \"வந்து\", \"வரும்\", \"வரை\", \"வரையில்\", \"விட\", \"விட்டு\", \"வேண்டும்\", \"வேறு\"\n",
    "])"
   ]
  },
  {
   "cell_type": "code",
   "execution_count": 21,
   "metadata": {},
   "outputs": [],
   "source": [
    "def preprocess_tamil_english_text(text):\n",
    "    # Remove special characters and numbers\n",
    "    text = text.lower()\n",
    "    \n",
    "    text = re.sub(r'[^a-zA-Zஅஆஇஈஉஊஎஏஐஒஓௌகெஙடபணரஎழைசாௗ\\s]', '', text)   \n",
    "    \n",
    "    tokens = text.split()\n",
    "    \n",
    "    # Remove stopwords (both Tamil and English)\n",
    "    stop_words = set(stopwords.words('english')).union(tamil_stopwords)\n",
    "    tokens = [word for word in tokens if word not in stop_words]\n",
    "    \n",
    "    return \" \".join(tokens)"
   ]
  },
  {
   "cell_type": "code",
   "execution_count": 103,
   "metadata": {},
   "outputs": [],
   "source": [
    "images_dir = 'images'\n",
    "\n",
    "train_df = pd.read_csv('train.csv')\n",
    "val_df = pd.read_csv('dev.csv')\n",
    "test_df = pd.read_csv('test.csv')\n",
    "\n",
    "train_text = train_df['transcriptions'].tolist()\n",
    "train_labels = train_df['labels']\n",
    "# train_image_id = train_df['image_id']\n",
    "\n",
    "val_text = val_df['transcriptions'].tolist()\n",
    "val_labels = val_df['labels']\n",
    "# val_image_id = val_df['image_id']\n",
    "\n",
    "test_text = test_df['transcriptions'].tolist()\n",
    "test_image_id = test_df['image_id']"
   ]
  },
  {
   "cell_type": "code",
   "execution_count": 455,
   "metadata": {},
   "outputs": [
    {
     "data": {
      "text/plain": [
       "(1133, 284, 356)"
      ]
     },
     "execution_count": 455,
     "metadata": {},
     "output_type": "execute_result"
    }
   ],
   "source": [
    "len(train_labels), len(val_labels), len(test_labels)"
   ]
  },
  {
   "cell_type": "code",
   "execution_count": 449,
   "metadata": {},
   "outputs": [
    {
     "data": {
      "image/png": "[encoded data removed]",
      "text/plain": [
       "<Figure size 400x300 with 1 Axes>"
      ]
     },
     "metadata": {},
     "output_type": "display_data"
    }
   ],
   "source": [
    "# Plotting the distribution of labels\n",
    "plt.figure(figsize=(4, 3))\n",
    "plt.hist(train_labels, bins=[-0.5, 0.5, 1.5], edgecolor='black', width=0.4)\n",
    "plt.xticks([0, 1], ['Non-Misogynist', 'Misogynist'])\n",
    "plt.xlabel('Label')\n",
    "plt.ylabel('Count')\n",
    "plt.title('Distribution of Misogynist and Non-Misogynist data for Tamil')\n",
    "plt.show()"
   ]
  },
  {
   "cell_type": "code",
   "execution_count": 452,
   "metadata": {},
   "outputs": [
    {
     "data": {
      "image/png": "[encoded data removed]",
      "text/plain": [
       "<Figure size 300x300 with 1 Axes>"
      ]
     },
     "metadata": {},
     "output_type": "display_data"
    }
   ],
   "source": [
    "# Count occurrences of each label (0 and 1)\n",
    "label_counts = train_labels.value_counts()\n",
    "\n",
    "# Plotting the pie chart\n",
    "plt.figure(figsize=(3, 3))\n",
    "plt.pie(label_counts, labels=['Non-Misogynist', 'Misogynist'], autopct='%1.1f%%', colors=['#66b3ff','#ff6666'], startangle=90, explode=(0.1, 0)) \n",
    "\n",
    "# Adding title\n",
    "plt.title('Distribution of Tamil Misogynist and Non-Misogynist data')\n",
    "plt.show()"
   ]
  },
  {
   "cell_type": "code",
   "execution_count": 25,
   "metadata": {},
   "outputs": [],
   "source": [
    "train_text = [preprocess_tamil_english_text(text) for text in train_text]\n",
    "val_text = [preprocess_tamil_english_text(text) for text in val_text]\n",
    "test_text = [preprocess_tamil_english_text(text) for text in test_text]"
   ]
  },
  {
   "cell_type": "code",
   "execution_count": 9,
   "metadata": {},
   "outputs": [
    {
     "name": "stderr",
     "output_type": "stream",
     "text": [
      "c:\\Users\\nimmi\\anaconda3\\Lib\\site-packages\\huggingface_hub\\file_download.py:1150: FutureWarning: `resume_download` is deprecated and will be removed in version 1.0.0. Downloads always resume when possible. If you want to force a new download, use `force_download=True`.\n",
      "  warnings.warn(\n"
     ]
    }
   ],
   "source": [
    "from transformers import AutoTokenizer, AutoModel\n",
    "tokenizer = AutoTokenizer.from_pretrained(\"FacebookAI/xlm-roberta-base\")\n",
    "model = AutoModel.from_pretrained(\"FacebookAI/xlm-roberta-base\")\n",
    "inputs = tokenizer(train_text, padding=True, truncation=True, return_tensors=\"pt\", max_length=30)\n",
    "val_input = tokenizer(val_text, padding=True, truncation=True, return_tensors=\"pt\", max_length=30)\n",
    "test_input = tokenizer(test_text, padding=True, truncation=True, return_tensors=\"pt\", max_length=30)\n"
   ]
  },
  {
   "cell_type": "code",
   "execution_count": 10,
   "metadata": {},
   "outputs": [],
   "source": [
    "with torch.no_grad():\n",
    "    train_features = model(**inputs).pooler_output \n",
    "    val_features = model(**val_input).pooler_output \n",
    "    test_features = model(**test_input).pooler_output"
   ]
  },
  {
   "cell_type": "code",
   "execution_count": 4,
   "metadata": {},
   "outputs": [],
   "source": [
    "# np.save('train_features.npy', np.array(train_features))\n",
    "# np.save('val_features.npy', np.array(val_features))\n",
    "# np.save('test_features.npy', np.array(test_features))\n",
    "\n",
    "train_features = np.load('train_features.npy')\n",
    "val_features = np.load('val_features.npy')\n",
    "test_features = np.load('test_features.npy')"
   ]
  },
  {
   "cell_type": "code",
   "execution_count": 5,
   "metadata": {},
   "outputs": [
    {
     "data": {
      "text/plain": [
       "((1133, 768), (284, 768), (356, 768))"
      ]
     },
     "execution_count": 5,
     "metadata": {},
     "output_type": "execute_result"
    }
   ],
   "source": [
    "train_features.shape, val_features.shape, test_features.shape"
   ]
  },
  {
   "cell_type": "code",
   "execution_count": 16,
   "metadata": {},
   "outputs": [
    {
     "name": "stderr",
     "output_type": "stream",
     "text": [
      "c:\\Users\\nimmi\\anaconda3\\Lib\\site-packages\\huggingface_hub\\file_download.py:1150: FutureWarning: `resume_download` is deprecated and will be removed in version 1.0.0. Downloads always resume when possible. If you want to force a new download, use `force_download=True`.\n",
      "  warnings.warn(\n",
      "c:\\Users\\nimmi\\anaconda3\\Lib\\site-packages\\transformers\\models\\vit\\feature_extraction_vit.py:28: FutureWarning: The class ViTFeatureExtractor is deprecated and will be removed in version 5 of Transformers. Please use ViTImageProcessor instead.\n",
      "  warnings.warn(\n",
      "Some weights of ViTModel were not initialized from the model checkpoint at google/vit-base-patch16-224 and are newly initialized: ['vit.pooler.dense.bias', 'vit.pooler.dense.weight']\n",
      "You should probably TRAIN this model on a down-stream task to be able to use it for predictions and inference.\n"
     ]
    }
   ],
   "source": [
    "import torch\n",
    "from transformers import ViTFeatureExtractor, ViTModel\n",
    "from torchvision import transforms\n",
    "from PIL import Image\n",
    "\n",
    "# Load Vision Transformer (ViT) feature extractor and model once\n",
    "feature_extractor = ViTFeatureExtractor.from_pretrained(\"google/vit-base-patch16-224\")\n",
    "model_vit = ViTModel.from_pretrained(\"google/vit-base-patch16-224\")\n",
    "model_vit.eval()  # Set model to evaluation mode\n",
    "\n",
    "# Preprocessing for images\n",
    "preprocess = transforms.Compose([\n",
    "    transforms.Resize((224, 224)),\n",
    "    transforms.ToTensor(),\n",
    "    transforms.Normalize(mean=feature_extractor.image_mean, std=feature_extractor.image_std),\n",
    "])\n",
    "\n",
    "# Function to extract image features\n",
    "def extract_image_features(image_ids, images_dir):\n",
    "    image_features = []\n",
    "    \n",
    "    for image_id in image_ids:\n",
    "        image_path = os.path.join(images_dir, f\"{image_id}.jpg\")\n",
    "        try:\n",
    "            image = Image.open(image_path).convert(\"RGB\")\n",
    "            image = preprocess(image).unsqueeze(0)  # Add batch dimension\n",
    "            \n",
    "            # Extract features using ViT\n",
    "            with torch.no_grad():\n",
    "                outputs = model_vit(image)\n",
    "                features = outputs.last_hidden_state.mean(dim=1).squeeze(0).numpy()  # Mean pooling\n",
    "            image_features.append(features)\n",
    "        except Exception as e:\n",
    "            print(f\"Error loading image {image_id}.jpg: {e}\")\n",
    "            image_features.append(None)\n",
    "    \n",
    "    return image_features\n"
   ]
  },
  {
   "cell_type": "code",
   "execution_count": 17,
   "metadata": {},
   "outputs": [],
   "source": [
    "# Extract image features for train, validation, and test sets\n",
    "train_image_features = extract_image_features(train_df['image_id'], images_dir)\n",
    "val_image_features = extract_image_features(val_df['image_id'], images_dir)\n",
    "test_image_features = extract_image_features(test_df['image_id'], images_dir)"
   ]
  },
  {
   "cell_type": "code",
   "execution_count": 3,
   "metadata": {},
   "outputs": [],
   "source": [
    "# Save train, validation, and test image features to NumPy files\n",
    "# np.save('train_image_features.npy', np.array(train_image_features))\n",
    "# np.save('val_image_features.npy', np.array(val_image_features))\n",
    "# np.save('test_image_features.npy', np.array(test_image_features))\n",
    "\n",
    "# Load the saved image features from NumPy files\n",
    "train_image_features = np.load('train_image_features.npy')\n",
    "val_image_features = np.load('val_image_features.npy')\n",
    "test_image_features = np.load('test_image_features.npy')\n"
   ]
  },
  {
   "cell_type": "code",
   "execution_count": 10,
   "metadata": {},
   "outputs": [],
   "source": [
    "# Convert NumPy arrays to PyTorch tensors\n",
    "train_image_features = torch.from_numpy(train_image_features)\n",
    "val_image_features = torch.from_numpy(val_image_features)\n",
    "test_image_features = torch.from_numpy(test_image_features)\n",
    "\n",
    "# Convert NumPy arrays to PyTorch tensors\n",
    "train_features = torch.from_numpy(train_features)\n",
    "val_features = torch.from_numpy(val_features)\n",
    "test_features = torch.from_numpy(test_features)"
   ]
  },
  {
   "cell_type": "code",
   "execution_count": 11,
   "metadata": {},
   "outputs": [
    {
     "data": {
      "text/plain": [
       "1133"
      ]
     },
     "execution_count": 11,
     "metadata": {},
     "output_type": "execute_result"
    }
   ],
   "source": [
    "len(train_image_features)"
   ]
  },
  {
   "cell_type": "code",
   "execution_count": 12,
   "metadata": {},
   "outputs": [
    {
     "data": {
      "text/plain": [
       "(torch.Size([768]), torch.Size([768]), torch.Size([768]))"
      ]
     },
     "execution_count": 12,
     "metadata": {},
     "output_type": "execute_result"
    }
   ],
   "source": [
    "train_image_features[0].shape, val_image_features[0].shape, test_image_features[0].shape"
   ]
  },
  {
   "cell_type": "code",
   "execution_count": 50,
   "metadata": {},
   "outputs": [],
   "source": [
    "# test_image_features[0]"
   ]
  },
  {
   "cell_type": "code",
   "execution_count": 26,
   "metadata": {},
   "outputs": [
    {
     "data": {
      "text/plain": [
       "(768,)"
      ]
     },
     "execution_count": 26,
     "metadata": {},
     "output_type": "execute_result"
    }
   ],
   "source": [
    "train_image_features[2].shape"
   ]
  },
  {
   "cell_type": "code",
   "execution_count": 56,
   "metadata": {},
   "outputs": [],
   "source": [
    "# Assuming train_image_features, val_image_features, test_image_features are DataFrames\n",
    "train_image_features = train_image_features.values\n",
    "val_image_features = val_image_features.values\n",
    "test_image_features = test_image_features.values\n"
   ]
  },
  {
   "cell_type": "code",
   "execution_count": 60,
   "metadata": {},
   "outputs": [],
   "source": [
    "import torch\n",
    "train_image_features = torch.tensor(train_image_features)\n",
    "val_image_features = torch.tensor(val_image_features)\n",
    "test_image_features = torch.tensor(test_image_features)\n"
   ]
  },
  {
   "cell_type": "code",
   "execution_count": 62,
   "metadata": {},
   "outputs": [
    {
     "data": {
      "text/plain": [
       "torch.Size([1133, 768])"
      ]
     },
     "execution_count": 62,
     "metadata": {},
     "output_type": "execute_result"
    }
   ],
   "source": [
    "train_image_features.shape"
   ]
  },
  {
   "cell_type": "code",
   "execution_count": 13,
   "metadata": {},
   "outputs": [
    {
     "data": {
      "text/plain": [
       "(torch.Size([1133, 768]), torch.Size([1133, 768]))"
      ]
     },
     "execution_count": 13,
     "metadata": {},
     "output_type": "execute_result"
    }
   ],
   "source": [
    "train_image_features.shape, train_features.shape"
   ]
  },
  {
   "cell_type": "markdown",
   "metadata": {},
   "source": [
    "COMBINE TEXT AND IMAGE FEATURES"
   ]
  },
  {
   "cell_type": "code",
   "execution_count": 14,
   "metadata": {},
   "outputs": [],
   "source": [
    "# Combine image and text features into a single DataFrame\n",
    "def combine_features(text_features, image_features):\n",
    "    combined_features = torch.cat((text_features, image_features), dim=1)\n",
    "    return combined_features "
   ]
  },
  {
   "cell_type": "code",
   "execution_count": 15,
   "metadata": {},
   "outputs": [],
   "source": [
    "# Combine features for train, validation, and test sets\n",
    "train_combined_features = combine_features(train_features, train_image_features)\n",
    "val_combined_features = combine_features(val_features, val_image_features)\n",
    "test_combined_features = combine_features(test_features, test_image_features)"
   ]
  },
  {
   "cell_type": "code",
   "execution_count": 16,
   "metadata": {},
   "outputs": [
    {
     "name": "stdout",
     "output_type": "stream",
     "text": [
      "Train combined features shape: torch.Size([1133, 1536])\n",
      "Validation combined features shape: torch.Size([284, 1536])\n",
      "Test combined features shape: torch.Size([356, 1536])\n"
     ]
    }
   ],
   "source": [
    "# Print the shape of combined features\n",
    "print(\"Train combined features shape:\", train_combined_features.shape)\n",
    "print(\"Validation combined features shape:\", val_combined_features.shape)\n",
    "print(\"Test combined features shape:\", test_combined_features.shape)"
   ]
  },
  {
   "cell_type": "code",
   "execution_count": 17,
   "metadata": {},
   "outputs": [],
   "source": [
    "import torch\n",
    "import torch.nn as nn\n",
    "\n",
    "class MultimodalClassifier(nn.Module):\n",
    "    def __init__(self, input_dim, hidden_dim, output_dim):\n",
    "        super(MultimodalClassifier, self).__init__()\n",
    "        \n",
    "        # Shared subnetwork for both text and image features (since they are combined)\n",
    "        self.fc = nn.Sequential(\n",
    "            nn.Linear(input_dim, hidden_dim),  # input_dim = 1536 (text + image features)\n",
    "            nn.ReLU(),\n",
    "            nn.BatchNorm1d(hidden_dim),\n",
    "            nn.Dropout(0.3),\n",
    "            nn.Linear(hidden_dim, hidden_dim),\n",
    "            nn.ReLU(),\n",
    "            nn.BatchNorm1d(hidden_dim),\n",
    "            nn.Dropout(0.2)\n",
    "        )\n",
    "        \n",
    "        # Final classification layer\n",
    "        self.classifier = nn.Sequential(\n",
    "            nn.Linear(hidden_dim, output_dim),  # output_dim = 1 for binary classification\n",
    "            nn.Sigmoid()  # Sigmoid for binary classification\n",
    "        )\n",
    "    \n",
    "    def forward(self, combined_features):\n",
    "        # Pass combined features (text + image) through the network\n",
    "        x = self.fc(combined_features)\n",
    "        output = self.classifier(x)\n",
    "        return output\n"
   ]
  },
  {
   "cell_type": "code",
   "execution_count": 127,
   "metadata": {},
   "outputs": [],
   "source": [
    "# Convert combined features to tensors\n",
    "# train_combined_features = torch.tensor(train_combined_features.values).float()\n",
    "# val_combined_features = torch.tensor(val_combined_features.values).float()\n",
    "# test_combined_features = torch.tensor(test_combined_features.values).float()"
   ]
  },
  {
   "cell_type": "code",
   "execution_count": 348,
   "metadata": {},
   "outputs": [],
   "source": [
    "# Training function\n",
    "def train_epoch(model, train_features, train_labels, optimizer, criterion):\n",
    "    model.train()\n",
    "    optimizer.zero_grad()\n",
    "\n",
    "    # Forward pass\n",
    "    outputs = model(train_features)\n",
    "\n",
    "    # Calculate loss\n",
    "    loss = criterion(outputs.squeeze(), train_labels)\n",
    "    \n",
    "    # Backward pass and optimization\n",
    "    loss.backward()\n",
    "    optimizer.step()\n",
    "\n",
    "    # Calculate training accuracy\n",
    "    predicted_labels = (outputs.squeeze() > 0.5).float()\n",
    "    accuracy = accuracy_score(train_labels.cpu().numpy(), predicted_labels.cpu().numpy())\n",
    "    \n",
    "    return loss.item(), accuracy\n",
    "\n",
    "# Evaluation function\n",
    "def evaluate(model, val_features, val_labels, criterion):\n",
    "    model.eval()\n",
    "    \n",
    "    with torch.no_grad():\n",
    "        outputs = model(val_features)\n",
    "        \n",
    "        # Calculate loss\n",
    "        loss = criterion(outputs.squeeze(), val_labels)\n",
    "        \n",
    "        # Calculate predicted labels\n",
    "        predicted_labels = (outputs.squeeze() > 0.5).float()\n",
    "        \n",
    "        # Metrics calculation\n",
    "        accuracy = accuracy_score(val_labels.cpu().numpy(), predicted_labels.cpu().numpy())\n",
    "        precision = precision_score(val_labels.cpu().numpy(), predicted_labels.cpu().numpy())\n",
    "        recall = recall_score(val_labels.cpu().numpy(), predicted_labels.cpu().numpy())\n",
    "        f1 = f1_score(val_labels.cpu().numpy(), predicted_labels.cpu().numpy())\n",
    "        \n",
    "    return loss.item(), accuracy, precision, recall, f1\n"
   ]
  },
  {
   "cell_type": "code",
   "execution_count": 349,
   "metadata": {},
   "outputs": [],
   "source": [
    "# Testing function\n",
    "def test(model, test_features):\n",
    "    model.eval()\n",
    "    \n",
    "    with torch.no_grad():\n",
    "        outputs = model(test_features)\n",
    "        \n",
    "        # Convert outputs to predicted labels\n",
    "        predicted_labels = (outputs.squeeze() > 0.5).float()\n",
    "        \n",
    "    return predicted_labels"
   ]
  },
  {
   "cell_type": "code",
   "execution_count": 407,
   "metadata": {},
   "outputs": [],
   "source": [
    "# Example dimensions\n",
    "input_dim = 1536  # Combined text and image features (768 + 768)\n",
    "hidden_dim = 256  # Hidden dimension size \n",
    "output_dim = 1    # Binary classification (0 or 1)\n",
    "\n",
    "# Initialize model\n",
    "model = MultimodalClassifier(input_dim, hidden_dim, output_dim)\n",
    "\n",
    "# Define loss function and optimizer\n",
    "criterion = nn.BCELoss()  # Binary Cross Entropy for binary classification\n",
    "optimizer = torch.optim.Adam(model.parameters(), lr=5e-5) #lr=0.001->69\n",
    "\n",
    "train_labels1 = torch.tensor(train_labels.values).float()\n",
    "val_labels1 = torch.tensor(val_labels.values).float()"
   ]
  },
  {
   "cell_type": "code",
   "execution_count": 414,
   "metadata": {},
   "outputs": [],
   "source": [
    "num_epochs = 180\n",
    "for epoch in range(num_epochs):\n",
    "    train_loss, train_accuracy = train_epoch(model, train_combined_features, train_labels1, optimizer, criterion)\n",
    "    # print(f\"Epoch [{epoch+1}/{num_epochs}]\")\n",
    "    # print(f\"Train Loss: {train_loss:.4f}, Train Accuracy: {train_accuracy:.4f}\") \n",
    "    val_loss, val_accuracy, val_precision, val_recall, val_f1 = evaluate(model, val_combined_features, val_labels1, criterion)\n",
    "    # print(f\"Validation Loss: {val_loss:.4f}, Validation Accuracy: {val_accuracy:.4f}, Precision: {val_precision:.4f}, Recall: {val_recall:.4f}, F1 Score: {val_f1:.4f}\")\n"
   ]
  },
  {
   "cell_type": "code",
   "execution_count": 415,
   "metadata": {},
   "outputs": [],
   "source": [
    "test_labels = pd.read_csv('Tam_test_with_labels.csv')\n",
    "test_labels = test_labels['labels']\n",
    "test_labels1 = torch.tensor(test_labels.values).float()"
   ]
  },
  {
   "cell_type": "code",
   "execution_count": 416,
   "metadata": {},
   "outputs": [
    {
     "name": "stdout",
     "output_type": "stream",
     "text": [
      "                precision    recall  f1-score   support\n",
      "\n",
      "Non-Misogynist       0.89      0.81      0.84       267\n",
      "    Misogynist       0.54      0.70      0.61        89\n",
      "\n",
      "      accuracy                           0.78       356\n",
      "     macro avg       0.72      0.75      0.73       356\n",
      "  weighted avg       0.80      0.78      0.79       356\n",
      "\n"
     ]
    }
   ],
   "source": [
    "from sklearn.metrics import classification_report\n",
    "test_predictions = test(model, test_combined_features)\n",
    "report = classification_report(test_labels, test_predictions, target_names=['Non-Misogynist', 'Misogynist'])\n",
    "print(report)"
   ]
  },
  {
   "cell_type": "code",
   "execution_count": 417,
   "metadata": {},
   "outputs": [
    {
     "data": {
      "image/png": "[encoded data removed]",
      "text/plain": [
       "<Figure size 300x300 with 2 Axes>"
      ]
     },
     "metadata": {},
     "output_type": "display_data"
    }
   ],
   "source": [
    "cm = confusion_matrix(test_labels, test_predictions)\n",
    "plt.figure(figsize=(3, 3))\n",
    "sns.heatmap(cm, annot=True, fmt='d', cmap='Blues', xticklabels=['Non Misogynist', 'Misogynist'], yticklabels=['Non Misogynist', 'Misogynist'])\n",
    "plt.xlabel('Predicted')  \n",
    "plt.ylabel('True')\n",
    "plt.title('Confusion Matrix')\n",
    "plt.show() "
   ]
  },
  {
   "cell_type": "code",
   "execution_count": 154,
   "metadata": {},
   "outputs": [
    {
     "name": "stdout",
     "output_type": "stream",
     "text": [
      "SVM Accuracy: 0.8342696629213483\n",
      "                precision    recall  f1-score   support\n",
      "\n",
      "Non-Misogynist       0.85      0.95      0.90       267\n",
      "    Misogynist       0.76      0.49      0.60        89\n",
      "\n",
      "      accuracy                           0.83       356\n",
      "     macro avg       0.80      0.72      0.75       356\n",
      "  weighted avg       0.83      0.83      0.82       356\n",
      "\n"
     ]
    }
   ],
   "source": [
    "from sklearn.model_selection import train_test_split\n",
    "from sklearn.preprocessing import StandardScaler\n",
    "from sklearn.svm import SVC\n",
    "from sklearn.neighbors import KNeighborsClassifier\n",
    "from sklearn.naive_bayes import GaussianNB\n",
    "\n",
    "\n",
    "# test_labels = test_labels['labels']\n",
    "\n",
    "# Scale features (important for KNN, SVM)\n",
    "scaler = StandardScaler()\n",
    "train_combined_features1 = scaler.fit_transform(train_combined_features)\n",
    "test_combined_features1 = scaler.transform(test_combined_features)\n",
    "\n",
    "# SVM\n",
    "svm_model = SVC(kernel='rbf', C= 3, gamma= 'auto')\n",
    "svm_model.fit(train_combined_features1, train_labels)\n",
    "y_test_svm = svm_model.predict(test_combined_features1)\n",
    "print(\"SVM Accuracy:\", accuracy_score(test_labels, y_test_svm))\n",
    "report = classification_report(test_labels, y_test_svm, target_names=['Non-Misogynist', 'Misogynist'])\n",
    "print(report)"
   ]
  },
  {
   "cell_type": "code",
   "execution_count": 423,
   "metadata": {},
   "outputs": [
    {
     "data": {
      "image/png": "[encoded data removed]",
      "text/plain": [
       "<Figure size 300x300 with 2 Axes>"
      ]
     },
     "metadata": {},
     "output_type": "display_data"
    }
   ],
   "source": [
    "cm = confusion_matrix(test_labels, y_test_svm)\n",
    "plt.figure(figsize=(3, 3))\n",
    "sns.heatmap(cm, annot=True, fmt='d', cmap='Blues', xticklabels=['Non Misogynist', 'Misogynist'], yticklabels=['Non Misogynist', 'Misogynist'])\n",
    "plt.xlabel('Predicted')  \n",
    "plt.ylabel('True')\n",
    "plt.title('Confusion Matrix')\n",
    "plt.show() "
   ]
  },
  {
   "cell_type": "code",
   "execution_count": 182,
   "metadata": {},
   "outputs": [
    {
     "name": "stdout",
     "output_type": "stream",
     "text": [
      "Random Forest Accuracy: 0.8258426966292135\n",
      "                precision    recall  f1-score   support\n",
      "\n",
      "Non-Misogynist       0.82      0.99      0.90       267\n",
      "    Misogynist       0.94      0.33      0.48        89\n",
      "\n",
      "      accuracy                           0.83       356\n",
      "     macro avg       0.88      0.66      0.69       356\n",
      "  weighted avg       0.85      0.83      0.79       356\n",
      "\n"
     ]
    }
   ],
   "source": [
    "from sklearn.ensemble import RandomForestClassifier\n",
    "# Random Forest\n",
    "rf_model = RandomForestClassifier(n_estimators= 180, random_state=100, min_samples_split = 5, min_samples_leaf = 1, criterion = 'gini', max_features = 'sqrt')\n",
    "rf_model.fit(train_combined_features1, train_labels)\n",
    "y_pred_rf = rf_model.predict(test_combined_features1)\n",
    "print(\"Random Forest Accuracy:\", accuracy_score(test_labels, y_pred_rf))  \n",
    "report = classification_report(test_labels, y_pred_rf, target_names=['Non-Misogynist', 'Misogynist'])\n",
    "print(report)"
   ]
  },
  {
   "cell_type": "code",
   "execution_count": 422,
   "metadata": {},
   "outputs": [
    {
     "data": {
      "image/png": "[encoded data removed]",
      "text/plain": [
       "<Figure size 300x300 with 2 Axes>"
      ]
     },
     "metadata": {},
     "output_type": "display_data"
    }
   ],
   "source": [
    "cm = confusion_matrix(test_labels, y_pred_rf)\n",
    "plt.figure(figsize=(3, 3))\n",
    "sns.heatmap(cm, annot=True, fmt='d', cmap='Blues', xticklabels=['Non Misogynist', 'Misogynist'], yticklabels=['Non Misogynist', 'Misogynist'])\n",
    "plt.xlabel('Predicted')  \n",
    "plt.ylabel('True')\n",
    "plt.title('Confusion Matrix')\n",
    "plt.show() "
   ]
  },
  {
   "cell_type": "code",
   "execution_count": 223,
   "metadata": {},
   "outputs": [
    {
     "name": "stdout",
     "output_type": "stream",
     "text": [
      "                precision    recall  f1-score   support\n",
      "\n",
      "Non-Misogynist       0.84      0.98      0.91       267\n",
      "    Misogynist       0.89      0.44      0.59        89\n",
      "\n",
      "      accuracy                           0.85       356\n",
      "     macro avg       0.86      0.71      0.75       356\n",
      "  weighted avg       0.85      0.85      0.83       356\n",
      "\n"
     ]
    }
   ],
   "source": [
    "# KNN\n",
    "knn_model = KNeighborsClassifier(n_neighbors=7, weights = 'uniform', algorithm = 'kd_tree', leaf_size = 2, p=2, metric='minkowski')\n",
    "knn_model.fit(train_combined_features, train_labels)\n",
    "y_pred_knn = knn_model.predict(test_combined_features)\n",
    "report = classification_report(test_labels, y_pred_knn, target_names=['Non-Misogynist', 'Misogynist'])\n",
    "print(report) "
   ]
  },
  {
   "cell_type": "code",
   "execution_count": 421,
   "metadata": {},
   "outputs": [
    {
     "data": {
      "image/png": "[encoded data removed]",
      "text/plain": [
       "<Figure size 300x300 with 2 Axes>"
      ]
     },
     "metadata": {},
     "output_type": "display_data"
    }
   ],
   "source": [
    "cm = confusion_matrix(test_labels, y_pred_knn)\n",
    "plt.figure(figsize=(3, 3))\n",
    "sns.heatmap(cm, annot=True, fmt='d', cmap='Blues', xticklabels=['Non Misogynist', 'Misogynist'], yticklabels=['Non Misogynist', 'Misogynist'])\n",
    "plt.xlabel('Predicted')  \n",
    "plt.ylabel('True')\n",
    "plt.title('Confusion Matrix')\n",
    "plt.show() "
   ]
  },
  {
   "cell_type": "code",
   "execution_count": 224,
   "metadata": {},
   "outputs": [
    {
     "name": "stdout",
     "output_type": "stream",
     "text": [
      "                precision    recall  f1-score   support\n",
      "\n",
      "Non-Misogynist       0.90      0.70      0.79       267\n",
      "    Misogynist       0.47      0.78      0.58        89\n",
      "\n",
      "      accuracy                           0.72       356\n",
      "     macro avg       0.69      0.74      0.69       356\n",
      "  weighted avg       0.79      0.72      0.74       356\n",
      "\n"
     ]
    }
   ],
   "source": [
    "# Naive Bayes (not ideal for embeddings)\n",
    "nb_model = GaussianNB()\n",
    "nb_model.fit(train_combined_features, train_labels)\n",
    "y_pred_nb = nb_model.predict(test_combined_features)\n",
    "report = classification_report(test_labels, y_pred_nb, target_names=['Non-Misogynist', 'Misogynist'])\n",
    "print(report)"
   ]
  },
  {
   "cell_type": "code",
   "execution_count": 420,
   "metadata": {},
   "outputs": [
    {
     "data": {
      "image/png": "[encoded data removed]",
      "text/plain": [
       "<Figure size 300x300 with 2 Axes>"
      ]
     },
     "metadata": {},
     "output_type": "display_data"
    }
   ],
   "source": [
    "cm = confusion_matrix(test_labels, y_pred_nb)\n",
    "plt.figure(figsize=(3, 3))\n",
    "sns.heatmap(cm, annot=True, fmt='d', cmap='Blues', xticklabels=['Non Misogynist', 'Misogynist'], yticklabels=['Non Misogynist', 'Misogynist'])\n",
    "plt.xlabel('Predicted')  \n",
    "plt.ylabel('True')\n",
    "plt.title('Confusion Matrix')\n",
    "plt.show() "
   ]
  },
  {
   "cell_type": "code",
   "execution_count": null,
   "metadata": {},
   "outputs": [],
   "source": [
    "train_combined_features1 = train_combined_features.reshape(train_combined_features.shape[0], 1, train_combined_features.shape[1])\n",
    "val_combined_features1 = val_combined_features.reshape(val_combined_features.shape[0], 1, val_combined_features.shape[1])\n",
    "test_combined_features1 = test_combined_features.reshape(test_combined_features.shape[0], 1, test_combined_features.shape[1])"
   ]
  },
  {
   "cell_type": "code",
   "execution_count": 273,
   "metadata": {},
   "outputs": [
    {
     "name": "stdout",
     "output_type": "stream",
     "text": [
      "Epoch 1/9\n"
     ]
    },
    {
     "name": "stderr",
     "output_type": "stream",
     "text": [
      "c:\\Users\\nimmi\\anaconda3\\Lib\\site-packages\\keras\\src\\layers\\rnn\\rnn.py:200: UserWarning: Do not pass an `input_shape`/`input_dim` argument to a layer. When using Sequential models, prefer using an `Input(shape)` object as the first layer in the model instead.\n",
      "  super().__init__(**kwargs)\n"
     ]
    },
    {
     "name": "stdout",
     "output_type": "stream",
     "text": [
      "\u001b[1m9/9\u001b[0m \u001b[32m━━━━━━━━━━━━━━━━━━━━\u001b[0m\u001b[37m\u001b[0m \u001b[1m6s\u001b[0m 103ms/step - accuracy: 0.6921 - loss: 0.6056 - val_accuracy: 0.7394 - val_loss: 0.5685\n",
      "Epoch 2/9\n",
      "\u001b[1m9/9\u001b[0m \u001b[32m━━━━━━━━━━━━━━━━━━━━\u001b[0m\u001b[37m\u001b[0m \u001b[1m0s\u001b[0m 28ms/step - accuracy: 0.7617 - loss: 0.5086 - val_accuracy: 0.7817 - val_loss: 0.5048\n",
      "Epoch 3/9\n",
      "\u001b[1m9/9\u001b[0m \u001b[32m━━━━━━━━━━━━━━━━━━━━\u001b[0m\u001b[37m\u001b[0m \u001b[1m0s\u001b[0m 24ms/step - accuracy: 0.8059 - loss: 0.4506 - val_accuracy: 0.7852 - val_loss: 0.4981\n",
      "Epoch 4/9\n",
      "\u001b[1m9/9\u001b[0m \u001b[32m━━━━━━━━━━━━━━━━━━━━\u001b[0m\u001b[37m\u001b[0m \u001b[1m0s\u001b[0m 24ms/step - accuracy: 0.8268 - loss: 0.4142 - val_accuracy: 0.7993 - val_loss: 0.4975\n",
      "Epoch 5/9\n",
      "\u001b[1m9/9\u001b[0m \u001b[32m━━━━━━━━━━━━━━━━━━━━\u001b[0m\u001b[37m\u001b[0m \u001b[1m0s\u001b[0m 24ms/step - accuracy: 0.8366 - loss: 0.3678 - val_accuracy: 0.8169 - val_loss: 0.4879\n",
      "Epoch 6/9\n",
      "\u001b[1m9/9\u001b[0m \u001b[32m━━━━━━━━━━━━━━━━━━━━\u001b[0m\u001b[37m\u001b[0m \u001b[1m0s\u001b[0m 25ms/step - accuracy: 0.8561 - loss: 0.3561 - val_accuracy: 0.8134 - val_loss: 0.4856\n",
      "Epoch 7/9\n",
      "\u001b[1m9/9\u001b[0m \u001b[32m━━━━━━━━━━━━━━━━━━━━\u001b[0m\u001b[37m\u001b[0m \u001b[1m0s\u001b[0m 27ms/step - accuracy: 0.8663 - loss: 0.3433 - val_accuracy: 0.7958 - val_loss: 0.4645\n",
      "Epoch 8/9\n",
      "\u001b[1m9/9\u001b[0m \u001b[32m━━━━━━━━━━━━━━━━━━━━\u001b[0m\u001b[37m\u001b[0m \u001b[1m0s\u001b[0m 26ms/step - accuracy: 0.8727 - loss: 0.3252 - val_accuracy: 0.8028 - val_loss: 0.4458\n",
      "Epoch 9/9\n",
      "\u001b[1m9/9\u001b[0m \u001b[32m━━━━━━━━━━━━━━━━━━━━\u001b[0m\u001b[37m\u001b[0m \u001b[1m0s\u001b[0m 26ms/step - accuracy: 0.8798 - loss: 0.2902 - val_accuracy: 0.7993 - val_loss: 0.4482\n"
     ]
    },
    {
     "data": {
      "text/plain": [
       "<keras.src.callbacks.history.History at 0x2072823f610>"
      ]
     },
     "execution_count": 273,
     "metadata": {},
     "output_type": "execute_result"
    }
   ],
   "source": [
    "import tensorflow as tf\n",
    "from tensorflow.keras.models import Sequential\n",
    "from tensorflow.keras.layers import Dense, LSTM, Dropout\n",
    "\n",
    "# Assuming combined_embeddings is your input data, and labels are the targets\n",
    "# combined_embeddings.shape -> (num_samples, time_steps, feature_dim)\n",
    "# labels.shape -> (num_samples,)\n",
    "\n",
    "model = Sequential([\n",
    "    LSTM(128, return_sequences=True, input_shape=(train_combined_features1.shape[1], train_combined_features1.shape[2])),\n",
    "    Dropout(0.5),\n",
    "    LSTM(64),\n",
    "    Dropout(0.2),\n",
    "    Dense(32, activation='tanh'),  #tanh\n",
    "    Dense(1, activation='sigmoid')  # Use sigmoid for binary classification\n",
    "])\n",
    "\n",
    "\n",
    "# Compile the Model\n",
    "model.compile(optimizer='Adam', loss='binary_crossentropy', metrics=['accuracy'])\n",
    "\n",
    "# Train the Model\n",
    "model.fit(train_combined_features1, train_labels, epochs=9, batch_size=128, validation_data=(val_combined_features1, val_labels))"
   ]
  },
  {
   "cell_type": "code",
   "execution_count": 274,
   "metadata": {},
   "outputs": [
    {
     "name": "stdout",
     "output_type": "stream",
     "text": [
      "\u001b[1m12/12\u001b[0m \u001b[32m━━━━━━━━━━━━━━━━━━━━\u001b[0m\u001b[37m\u001b[0m \u001b[1m1s\u001b[0m 37ms/step\n",
      "              precision    recall  f1-score   support\n",
      "\n",
      "           0       0.87      0.91      0.89       267\n",
      "           1       0.68      0.58      0.63        89\n",
      "\n",
      "    accuracy                           0.83       356\n",
      "   macro avg       0.77      0.75      0.76       356\n",
      "weighted avg       0.82      0.83      0.82       356\n",
      "\n"
     ]
    }
   ],
   "source": [
    "from sklearn.metrics import classification_report\n",
    "\n",
    "# Predict and round off probabilities for binary classification \n",
    "y_pred_rnn = model.predict(test_combined_features1) \n",
    "y_pred_rnn = (y_pred_rnn > .5).astype(int)  \n",
    "\n",
    "# Calculate and print metrics \n",
    "print(classification_report(test_labels, y_pred_rnn))"
   ]
  },
  {
   "cell_type": "code",
   "execution_count": 419,
   "metadata": {},
   "outputs": [
    {
     "data": {
      "image/png": "[encoded data removed]",
      "text/plain": [
       "<Figure size 300x300 with 2 Axes>"
      ]
     },
     "metadata": {},
     "output_type": "display_data"
    }
   ],
   "source": [
    "cm = confusion_matrix(test_labels, y_pred_rnn)\n",
    "plt.figure(figsize=(3, 3))\n",
    "sns.heatmap(cm, annot=True, fmt='d', cmap='Blues', xticklabels=['Non Misogynist', 'Misogynist'], yticklabels=['Non Misogynist', 'Misogynist'])\n",
    "plt.xlabel('Predicted')  \n",
    "plt.ylabel('True')\n",
    "plt.title('Confusion Matrix')\n",
    "plt.show() "
   ]
  },
  {
   "cell_type": "code",
   "execution_count": 228,
   "metadata": {},
   "outputs": [
    {
     "name": "stdout",
     "output_type": "stream",
     "text": [
      "Shape of train_combined_features: torch.Size([1133, 1, 1536])\n"
     ]
    }
   ],
   "source": [
    "print(\"Shape of train_combined_features:\", train_combined_features1.shape)\n"
   ]
  },
  {
   "cell_type": "code",
   "execution_count": 275,
   "metadata": {},
   "outputs": [],
   "source": [
    "import tensorflow as tf\n",
    "from tensorflow.keras.models import Sequential\n",
    "from tensorflow.keras.layers import GRU, Dense, Dropout"
   ]
  },
  {
   "cell_type": "code",
   "execution_count": 276,
   "metadata": {},
   "outputs": [
    {
     "name": "stderr",
     "output_type": "stream",
     "text": [
      "c:\\Users\\nimmi\\anaconda3\\Lib\\site-packages\\keras\\src\\layers\\rnn\\rnn.py:200: UserWarning: Do not pass an `input_shape`/`input_dim` argument to a layer. When using Sequential models, prefer using an `Input(shape)` object as the first layer in the model instead.\n",
      "  super().__init__(**kwargs)\n"
     ]
    }
   ],
   "source": [
    "# Define the GRU model\n",
    "model = Sequential([\n",
    "    GRU(128, return_sequences=True, input_shape=(train_combined_features1.shape[1], train_combined_features1.shape[2])),\n",
    "    Dropout(0.2),\n",
    "    GRU(64),\n",
    "    Dropout(0.2),\n",
    "    Dense(32, activation='tanh'),\n",
    "    Dense(1, activation='sigmoid')  # Sigmoid activation for binary classification\n",
    "])\n",
    "\n",
    "# Compile the model\n",
    "model.compile(optimizer='adam', loss='binary_crossentropy', metrics=['accuracy'])\n",
    "\n",
    "# Print the model summary\n",
    "# print(model.summary())\n"
   ]
  },
  {
   "cell_type": "code",
   "execution_count": 320,
   "metadata": {},
   "outputs": [
    {
     "name": "stdout",
     "output_type": "stream",
     "text": [
      "Epoch 1/9\n",
      "\u001b[1m71/71\u001b[0m \u001b[32m━━━━━━━━━━━━━━━━━━━━\u001b[0m\u001b[37m\u001b[0m \u001b[1m1s\u001b[0m 13ms/step - accuracy: 0.9970 - loss: 0.0116 - val_accuracy: 0.8204 - val_loss: 0.9727\n",
      "Epoch 2/9\n",
      "\u001b[1m71/71\u001b[0m \u001b[32m━━━━━━━━━━━━━━━━━━━━\u001b[0m\u001b[37m\u001b[0m \u001b[1m1s\u001b[0m 11ms/step - accuracy: 0.9965 - loss: 0.0169 - val_accuracy: 0.8204 - val_loss: 1.0198\n",
      "Epoch 3/9\n",
      "\u001b[1m71/71\u001b[0m \u001b[32m━━━━━━━━━━━━━━━━━━━━\u001b[0m\u001b[37m\u001b[0m \u001b[1m1s\u001b[0m 12ms/step - accuracy: 0.9947 - loss: 0.0135 - val_accuracy: 0.8063 - val_loss: 1.0697\n",
      "Epoch 4/9\n",
      "\u001b[1m71/71\u001b[0m \u001b[32m━━━━━━━━━━━━━━━━━━━━\u001b[0m\u001b[37m\u001b[0m \u001b[1m1s\u001b[0m 12ms/step - accuracy: 0.9923 - loss: 0.0215 - val_accuracy: 0.8239 - val_loss: 0.9657\n",
      "Epoch 5/9\n",
      "\u001b[1m71/71\u001b[0m \u001b[32m━━━━━━━━━━━━━━━━━━━━\u001b[0m\u001b[37m\u001b[0m \u001b[1m1s\u001b[0m 11ms/step - accuracy: 0.9958 - loss: 0.0168 - val_accuracy: 0.8099 - val_loss: 1.0136\n",
      "Epoch 6/9\n",
      "\u001b[1m71/71\u001b[0m \u001b[32m━━━━━━━━━━━━━━━━━━━━\u001b[0m\u001b[37m\u001b[0m \u001b[1m1s\u001b[0m 10ms/step - accuracy: 0.9865 - loss: 0.0285 - val_accuracy: 0.7993 - val_loss: 1.0143\n",
      "Epoch 7/9\n",
      "\u001b[1m71/71\u001b[0m \u001b[32m━━━━━━━━━━━━━━━━━━━━\u001b[0m\u001b[37m\u001b[0m \u001b[1m1s\u001b[0m 10ms/step - accuracy: 0.9996 - loss: 0.0083 - val_accuracy: 0.8134 - val_loss: 1.0334\n",
      "Epoch 8/9\n",
      "\u001b[1m71/71\u001b[0m \u001b[32m━━━━━━━━━━━━━━━━━━━━\u001b[0m\u001b[37m\u001b[0m \u001b[1m1s\u001b[0m 11ms/step - accuracy: 0.9946 - loss: 0.0175 - val_accuracy: 0.8063 - val_loss: 0.9394\n",
      "Epoch 9/9\n",
      "\u001b[1m71/71\u001b[0m \u001b[32m━━━━━━━━━━━━━━━━━━━━\u001b[0m\u001b[37m\u001b[0m \u001b[1m1s\u001b[0m 11ms/step - accuracy: 0.9904 - loss: 0.0179 - val_accuracy: 0.8310 - val_loss: 0.8627\n"
     ]
    }
   ],
   "source": [
    "# Train the model\n",
    "history = model.fit(\n",
    "    train_combined_features1, train_labels,\n",
    "    validation_data=(val_combined_features1, val_labels),\n",
    "    batch_size= 16,  # Adjust based on your system's resources\n",
    "    epochs=9,\n",
    "    verbose=1\n",
    ")\n"
   ]
  },
  {
   "cell_type": "code",
   "execution_count": 321,
   "metadata": {},
   "outputs": [
    {
     "name": "stdout",
     "output_type": "stream",
     "text": [
      "\u001b[1m12/12\u001b[0m \u001b[32m━━━━━━━━━━━━━━━━━━━━\u001b[0m\u001b[37m\u001b[0m \u001b[1m0s\u001b[0m 4ms/step \n",
      "              precision    recall  f1-score   support\n",
      "\n",
      "           0       0.85      0.91      0.88       267\n",
      "           1       0.66      0.52      0.58        89\n",
      "\n",
      "    accuracy                           0.81       356\n",
      "   macro avg       0.75      0.71      0.73       356\n",
      "weighted avg       0.80      0.81      0.80       356\n",
      "\n"
     ]
    }
   ],
   "source": [
    "# Evaluate the model on the test set\n",
    "y_pred = model.predict(test_combined_features1) \n",
    "y_pred_binary = (y_pred > 0.5).astype(int) \n",
    "\n",
    "# Print classification report  \n",
    "print(classification_report(test_labels, y_pred_binary))  "
   ]
  },
  {
   "cell_type": "code",
   "execution_count": 418,
   "metadata": {},
   "outputs": [
    {
     "data": {
      "image/png": "[encoded data removed]",
      "text/plain": [
       "<Figure size 300x300 with 2 Axes>"
      ]
     },
     "metadata": {},
     "output_type": "display_data"
    }
   ],
   "source": [
    "cm = confusion_matrix(test_labels, y_pred_binary)\n",
    "plt.figure(figsize=(3, 3))\n",
    "sns.heatmap(cm, annot=True, fmt='d', cmap='Blues', xticklabels=['Non Misogynist', 'Misogynist'], yticklabels=['Non Misogynist', 'Misogynist'])\n",
    "plt.xlabel('Predicted')  \n",
    "plt.ylabel('True')\n",
    "plt.title('Confusion Matrix')\n",
    "plt.show() "
   ]
  },
  {
   "cell_type": "code",
   "execution_count": null,
   "metadata": {},
   "outputs": [],
   "source": []
  }
 ],
 "metadata": {
  "kernelspec": {
   "display_name": "base",
   "language": "python",
   "name": "python3"
  },
  "language_info": {
   "codemirror_mode": {
    "name": "ipython",
    "version": 3
   },
   "file_extension": ".py",
   "mimetype": "text/x-python",
   "name": "python",
   "nbconvert_exporter": "python",
   "pygments_lexer": "ipython3",
   "version": "3.11.5"
  }
 },
 "nbformat": 4,
 "nbformat_minor": 2
}
